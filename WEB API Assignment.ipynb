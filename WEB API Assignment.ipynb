{
 "cells": [
  {
   "cell_type": "code",
   "execution_count": 2,
   "id": "d7243946",
   "metadata": {},
   "outputs": [
    {
     "name": "stdout",
     "output_type": "stream",
     "text": [
      "Enter a keyword to search for news articles: pratham\n",
      "No articles found.\n"
     ]
    }
   ],
   "source": [
    "import requests\n",
    "import pandas as pd\n",
    "\n",
    "\n",
    "NEWS_API_KEY = 'YOUR_API_KEY'\n",
    "\n",
    "def search_news(keyword):\n",
    "    \n",
    "    NEWS_API_URL = 'https://newsapi.org/v2/everything'\n",
    "\n",
    "    \n",
    "    params = {\n",
    "        'q': keyword,\n",
    "        'apiKey': NEWS_API_KEY,\n",
    "    }\n",
    "\n",
    "    try:\n",
    "        \n",
    "        response = requests.get(NEWS_API_URL, params=params)\n",
    "        response.raise_for_status()  \n",
    "\n",
    "       \n",
    "        data = response.json()\n",
    "        articles = data.get('articles', [])\n",
    "\n",
    "        return articles\n",
    "\n",
    "    except requests.exceptions.RequestException as e:\n",
    "        return f'Error: {str(e)}'\n",
    "\n",
    "def display_results(articles):\n",
    "    if isinstance(articles, list) and len(articles) > 0:\n",
    "        \n",
    "        df = pd.DataFrame(columns=['Title', 'Source', 'Published At', 'URL'])\n",
    "\n",
    "        for article in articles:\n",
    "            title = article.get('title', 'N/A')\n",
    "            source = article.get('source', {}).get('name', 'N/A')\n",
    "            published_at = article.get('publishedAt', 'N/A')\n",
    "            url = article.get('url', 'N/A')\n",
    "\n",
    "            df = df.append({'Title': title, 'Source': source, 'Published At': published_at, 'URL': url}, ignore_index=True)\n",
    "\n",
    "      \n",
    "        df['Published At'] = pd.to_datetime(df['Published At'])\n",
    "\n",
    "        \n",
    "        df = df.sort_values(by='Published At', ascending=False)\n",
    "\n",
    "        \n",
    "        print(df.to_string(index=False))\n",
    "    else:\n",
    "        print('No articles found.')\n",
    "\n",
    "\n",
    "search_keyword = input('Enter a keyword to search for news articles: ')\n",
    "\n",
    "\n",
    "news_results = search_news(search_keyword)\n",
    "\n",
    "\n",
    "display_results(news_results)"
   ]
  },
  {
   "cell_type": "code",
   "execution_count": null,
   "id": "fbb277ca",
   "metadata": {},
   "outputs": [],
   "source": []
  },
  {
   "cell_type": "code",
   "execution_count": null,
   "id": "81e4beb8",
   "metadata": {},
   "outputs": [],
   "source": []
  },
  {
   "cell_type": "code",
   "execution_count": null,
   "id": "606987f5",
   "metadata": {},
   "outputs": [],
   "source": []
  },
  {
   "cell_type": "code",
   "execution_count": null,
   "id": "60fcd5a4",
   "metadata": {},
   "outputs": [],
   "source": []
  }
 ],
 "metadata": {
  "kernelspec": {
   "display_name": "Python 3 (ipykernel)",
   "language": "python",
   "name": "python3"
  },
  "language_info": {
   "codemirror_mode": {
    "name": "ipython",
    "version": 3
   },
   "file_extension": ".py",
   "mimetype": "text/x-python",
   "name": "python",
   "nbconvert_exporter": "python",
   "pygments_lexer": "ipython3",
   "version": "3.9.12"
  }
 },
 "nbformat": 4,
 "nbformat_minor": 5
}
